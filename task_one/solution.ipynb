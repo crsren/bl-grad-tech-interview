{
 "cells": [
  {
   "cell_type": "markdown",
   "metadata": {},
   "source": [
    "# Task One - Quick Coding Exercise\n",
    "\n",
    "At BehaviourLab, it's very important that all employees use secure passwords. A password is considered secure only if it meets the following four conditions:\n",
    "\n",
    "1. It must have between 7 and 25 characters\n",
    "2. It must contain at least one lowercase letter, at least one uppercase letter, and at least one digit\n",
    "3. It must not contain any individual character more than three times in succession (e.g. \"..bbb..\" is weak, \"..aa...a.\" is strong)\n",
    "4. It must _not_ include any of the common passwords in the provided `common-passwords.txt`. You may convert the `common-passwords.txt` into any format of your choice if necessary.\n",
    "\n",
    "Given a string called `password`, return the number of steps required to make the password secure. If the password is already secure, return 0.\n",
    "\n",
    "One step can be any of the following three actions:\n",
    "\n",
    "- Insert one character to the password,\n",
    "- Delete one character from the password, or\n",
    "- Replace one character of the password with another character.\n",
    "\n",
    "### Example Input & Output\n",
    "\n",
    "_Example 1_\n",
    "\n",
    "```\n",
    "Input: password = \"z\"\n",
    "Output: 6\n",
    "```\n",
    "\n",
    "_Example 2_\n",
    "\n",
    "```\n",
    "Input: password = \"aA1\"\n",
    "Output: 4\n",
    "```\n",
    "\n",
    "_Example 3_\n",
    "\n",
    "```\n",
    "Input: password = \"1377C0d3\"\n",
    "Output: 0\n",
    "```\n",
    "\n",
    "### Our Expectations\n",
    "\n",
    "- Please don't spend more than 40-60 mins on this task.\n",
    "- You may use any programming language of your choice.\n",
    "- We're most interested to see problem solving and your approach.\n",
    "- Keep it simple, keep it DRY, but don't over complicate or over engineer. Comment and test as appropriate.\n",
    "- Include any assumptions you have made.\n"
   ]
  },
  {
   "cell_type": "code",
   "execution_count": 8,
   "metadata": {},
   "outputs": [],
   "source": [
    "# some testcases\n",
    "\n",
    "common_passwords = [\"abc\",\"Buongiorno123\",\"#123ABCdef\"]\n",
    "\n",
    "testbench = {\n",
    "    \"z\": 6,\n",
    "    \"aA1\": 4,\n",
    "    \"1377C0d3\": 0,\n",
    "    \"#123ABCdef\": 1\n",
    "}"
   ]
  },
  {
   "cell_type": "code",
   "execution_count": 11,
   "metadata": {},
   "outputs": [
    {
     "name": "stdout",
     "output_type": "stream",
     "text": [
      "passed 'z': 6 == 6\n",
      "passed 'aA1': 4 == 4\n",
      "passed '1377C0d3': 0 == 0\n",
      "passed '#123ABCdef': 1 == 1\n"
     ]
    }
   ],
   "source": [
    "# check if the password is valid\n",
    "import re\n",
    "\n",
    "for pw in [*testbench]:\n",
    "\n",
    "    # CONDITION 1: length of password\n",
    "    l = len(pw)\n",
    "    if l < 7: steps_c1 = 7-l\n",
    "    elif l > 25: steps_c1 = l-25\n",
    "    else: steps_c1 = 0\n",
    "\n",
    "    # CONDITION 2\n",
    "    steps_c2 = sum([\n",
    "        not re.search(r\"[a-z]\", pw),\n",
    "        not re.search(r\"[A-Z]\", pw),\n",
    "        not re.search(r\"[0-9]\", pw)\n",
    "        ])\n",
    "\n",
    "    # CONDITION 3: no 3 consecutive symmbols\n",
    "    i = 0\n",
    "    steps_c3 = 0\n",
    "    while i < len(pw)-3:\n",
    "        a,b,c = pw[i], pw[i+1], pw[i+2]\n",
    "\n",
    "        if a == b and b == c:\n",
    "            print(pw, \"has 3 consecutive letters\")\n",
    "            steps_c3 += 1\n",
    "            # choosing a good new char \"c\" ensures that there can't be any 3 consecutive letters including c\n",
    "            # -> we can skip 3 symbols ahead\n",
    "            i+=3\n",
    "        else: i+=1\n",
    "        \n",
    "\n",
    "    # CONDITION 4: not a common password\n",
    "    steps_c4 = 1 if pw in common_passwords else 0\n",
    "\n",
    "\n",
    "    # by choosing the right char as a replacement, or adding/deleting the right character from the right position,\n",
    "    # we can solve any of the 4 conditions simultaneously\n",
    "    steps = max(steps_c1,steps_c2,steps_c3,steps_c4)\n",
    "\n",
    "    if(steps == testbench.get(pw)):\n",
    "        print(f\"passed '{pw}': {steps} == {testbench.get(pw)}\")\n",
    "    else:\n",
    "        print(f\"FAILED '{pw}': {steps} != {testbench.get(pw)}\")"
   ]
  },
  {
   "cell_type": "code",
   "execution_count": null,
   "metadata": {},
   "outputs": [],
   "source": []
  }
 ],
 "metadata": {
  "interpreter": {
   "hash": "56941cacf15e8b05765996006082865469347c2b4cdce983108d1335de8b4245"
  },
  "kernelspec": {
   "display_name": "Python 3.8.3 64-bit ('base': conda)",
   "language": "python",
   "name": "python3"
  },
  "language_info": {
   "codemirror_mode": {
    "name": "ipython",
    "version": 3
   },
   "file_extension": ".py",
   "mimetype": "text/x-python",
   "name": "python",
   "nbconvert_exporter": "python",
   "pygments_lexer": "ipython3",
   "version": "3.8.3"
  },
  "orig_nbformat": 4
 },
 "nbformat": 4,
 "nbformat_minor": 2
}
